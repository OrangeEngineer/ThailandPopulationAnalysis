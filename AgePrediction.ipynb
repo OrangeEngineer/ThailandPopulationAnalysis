{
 "cells": [
  {
   "cell_type": "code",
   "execution_count": 37,
   "metadata": {
    "scrolled": true
   },
   "outputs": [
    {
     "data": {
      "text/html": [
       "<div>\n",
       "<style scoped>\n",
       "    .dataframe tbody tr th:only-of-type {\n",
       "        vertical-align: middle;\n",
       "    }\n",
       "\n",
       "    .dataframe tbody tr th {\n",
       "        vertical-align: top;\n",
       "    }\n",
       "\n",
       "    .dataframe thead th {\n",
       "        text-align: right;\n",
       "    }\n",
       "</style>\n",
       "<table border=\"1\" class=\"dataframe\">\n",
       "  <thead>\n",
       "    <tr style=\"text-align: right;\">\n",
       "      <th></th>\n",
       "      <th>ปีเดือน</th>\n",
       "      <th>รหัสจังหวัด</th>\n",
       "      <th>ชื่อจังหวัด</th>\n",
       "      <th>รหัสสำนักทะเบียน</th>\n",
       "      <th>ชื่อสำนักทะเบียน</th>\n",
       "      <th>รหัสตำบล</th>\n",
       "      <th>ชื่อตำบล</th>\n",
       "      <th>รหัสหมู่บ้าน</th>\n",
       "      <th>ชื่อหมู่บ้าน</th>\n",
       "      <th>ชาย &lt; 1 ปี</th>\n",
       "      <th>...</th>\n",
       "      <th>96 yrs</th>\n",
       "      <th>97 yrs</th>\n",
       "      <th>98 yrs</th>\n",
       "      <th>99 yrs</th>\n",
       "      <th>100 yrs</th>\n",
       "      <th>Infant</th>\n",
       "      <th>Children</th>\n",
       "      <th>Youth</th>\n",
       "      <th>Adult</th>\n",
       "      <th>Elderly</th>\n",
       "    </tr>\n",
       "  </thead>\n",
       "  <tbody>\n",
       "    <tr>\n",
       "      <th>0</th>\n",
       "      <td>5612</td>\n",
       "      <td>0.0</td>\n",
       "      <td>ทั่วประเทศ</td>\n",
       "      <td>0.0</td>\n",
       "      <td>NaN</td>\n",
       "      <td>0.0</td>\n",
       "      <td>NaN</td>\n",
       "      <td>0.0</td>\n",
       "      <td>NaN</td>\n",
       "      <td>358688</td>\n",
       "      <td>...</td>\n",
       "      <td>9739</td>\n",
       "      <td>7917</td>\n",
       "      <td>6663</td>\n",
       "      <td>4674</td>\n",
       "      <td>4007</td>\n",
       "      <td>2255002</td>\n",
       "      <td>10444999</td>\n",
       "      <td>8615337</td>\n",
       "      <td>33601154</td>\n",
       "      <td>8734101</td>\n",
       "    </tr>\n",
       "    <tr>\n",
       "      <th>1</th>\n",
       "      <td>5612</td>\n",
       "      <td>10.0</td>\n",
       "      <td>กรุงเทพมหานคร</td>\n",
       "      <td>0.0</td>\n",
       "      <td>NaN</td>\n",
       "      <td>0.0</td>\n",
       "      <td>NaN</td>\n",
       "      <td>0.0</td>\n",
       "      <td>NaN</td>\n",
       "      <td>24126</td>\n",
       "      <td>...</td>\n",
       "      <td>923</td>\n",
       "      <td>817</td>\n",
       "      <td>645</td>\n",
       "      <td>551</td>\n",
       "      <td>445</td>\n",
       "      <td>154752</td>\n",
       "      <td>822094</td>\n",
       "      <td>715711</td>\n",
       "      <td>3007245</td>\n",
       "      <td>817853</td>\n",
       "    </tr>\n",
       "    <tr>\n",
       "      <th>2</th>\n",
       "      <td>5612</td>\n",
       "      <td>11.0</td>\n",
       "      <td>สมุทรปราการ</td>\n",
       "      <td>0.0</td>\n",
       "      <td>NaN</td>\n",
       "      <td>0.0</td>\n",
       "      <td>NaN</td>\n",
       "      <td>0.0</td>\n",
       "      <td>NaN</td>\n",
       "      <td>6976</td>\n",
       "      <td>...</td>\n",
       "      <td>196</td>\n",
       "      <td>150</td>\n",
       "      <td>118</td>\n",
       "      <td>119</td>\n",
       "      <td>75</td>\n",
       "      <td>43225</td>\n",
       "      <td>197426</td>\n",
       "      <td>157035</td>\n",
       "      <td>677341</td>\n",
       "      <td>147885</td>\n",
       "    </tr>\n",
       "    <tr>\n",
       "      <th>3</th>\n",
       "      <td>5612</td>\n",
       "      <td>12.0</td>\n",
       "      <td>นนทบุรี</td>\n",
       "      <td>0.0</td>\n",
       "      <td>NaN</td>\n",
       "      <td>0.0</td>\n",
       "      <td>NaN</td>\n",
       "      <td>0.0</td>\n",
       "      <td>NaN</td>\n",
       "      <td>5611</td>\n",
       "      <td>...</td>\n",
       "      <td>280</td>\n",
       "      <td>241</td>\n",
       "      <td>193</td>\n",
       "      <td>166</td>\n",
       "      <td>162</td>\n",
       "      <td>35615</td>\n",
       "      <td>168258</td>\n",
       "      <td>134619</td>\n",
       "      <td>636848</td>\n",
       "      <td>165484</td>\n",
       "    </tr>\n",
       "    <tr>\n",
       "      <th>4</th>\n",
       "      <td>5612</td>\n",
       "      <td>13.0</td>\n",
       "      <td>ปทุมธานี</td>\n",
       "      <td>0.0</td>\n",
       "      <td>NaN</td>\n",
       "      <td>0.0</td>\n",
       "      <td>NaN</td>\n",
       "      <td>0.0</td>\n",
       "      <td>NaN</td>\n",
       "      <td>5844</td>\n",
       "      <td>...</td>\n",
       "      <td>106</td>\n",
       "      <td>83</td>\n",
       "      <td>77</td>\n",
       "      <td>53</td>\n",
       "      <td>53</td>\n",
       "      <td>37209</td>\n",
       "      <td>170768</td>\n",
       "      <td>136969</td>\n",
       "      <td>579781</td>\n",
       "      <td>115878</td>\n",
       "    </tr>\n",
       "  </tbody>\n",
       "</table>\n",
       "<p>5 rows × 336 columns</p>\n",
       "</div>"
      ],
      "text/plain": [
       "  ปีเดือน  รหัสจังหวัด    ชื่อจังหวัด  รหัสสำนักทะเบียน ชื่อสำนักทะเบียน  \\\n",
       "0    5612          0.0     ทั่วประเทศ               0.0              NaN   \n",
       "1    5612         10.0  กรุงเทพมหานคร               0.0              NaN   \n",
       "2    5612         11.0    สมุทรปราการ               0.0              NaN   \n",
       "3    5612         12.0        นนทบุรี               0.0              NaN   \n",
       "4    5612         13.0       ปทุมธานี               0.0              NaN   \n",
       "\n",
       "   รหัสตำบล ชื่อตำบล  รหัสหมู่บ้าน ชื่อหมู่บ้าน  ชาย < 1 ปี  ...  96 yrs  \\\n",
       "0       0.0      NaN           0.0          NaN      358688  ...    9739   \n",
       "1       0.0      NaN           0.0          NaN       24126  ...     923   \n",
       "2       0.0      NaN           0.0          NaN        6976  ...     196   \n",
       "3       0.0      NaN           0.0          NaN        5611  ...     280   \n",
       "4       0.0      NaN           0.0          NaN        5844  ...     106   \n",
       "\n",
       "   97 yrs  98 yrs  99 yrs  100 yrs   Infant  Children    Youth     Adult  \\\n",
       "0    7917    6663    4674     4007  2255002  10444999  8615337  33601154   \n",
       "1     817     645     551      445   154752    822094   715711   3007245   \n",
       "2     150     118     119       75    43225    197426   157035    677341   \n",
       "3     241     193     166      162    35615    168258   134619    636848   \n",
       "4      83      77      53       53    37209    170768   136969    579781   \n",
       "\n",
       "   Elderly  \n",
       "0  8734101  \n",
       "1   817853  \n",
       "2   147885  \n",
       "3   165484  \n",
       "4   115878  \n",
       "\n",
       "[5 rows x 336 columns]"
      ]
     },
     "execution_count": 37,
     "metadata": {},
     "output_type": "execute_result"
    }
   ],
   "source": [
    "import pandas as pd\n",
    "import numpy as np\n",
    "from sklearn.preprocessing import PolynomialFeatures\n",
    "from sklearn.linear_model import LinearRegression\n",
    "from sklearn.metrics import mean_squared_error\n",
    "from sklearn.linear_model import Ridge\n",
    "from sklearn.pipeline import make_pipeline\n",
    "import numpy as np\n",
    "import matplotlib.pyplot as plt\n",
    "\n",
    "# Load data into a pandas DataFrame\n",
    "df = pd.read_csv(\"year_2013_2022.csv\")\n",
    "df['Infant'] = df[['< 1 yr',' 1 yr','2 yrs']].sum(axis=1)\n",
    "df['Children'] = df.loc[:,'3 yrs':'15 yrs'].sum(axis=1)\n",
    "df['Youth'] = df.loc[:,'16 yrs':'24 yrs'].sum(axis=1)\n",
    "df['Adult'] = df.loc[:,'25 yrs':'59 yrs'].sum(axis=1)\n",
    "df['Elderly'] = df.loc[:,'60 yrs':'100 yrs'].sum(axis=1) + df['> 100 yrs']\n",
    "df.head()"
   ]
  },
  {
   "cell_type": "code",
   "execution_count": 39,
   "metadata": {},
   "outputs": [],
   "source": [
    "total_pops = df[df['ชื่อจังหวัด']== 'ทั่วประเทศ'][['ชื่อจังหวัด','year','ผลรวมประชากรทั้งหมด','Infant','Children','Youth','Adult','Elderly']].sort_values('year')\n",
    "total_pops['ผลรวมประชากรทั้งหมด'] = total_pops['ผลรวมประชากรทั้งหมด'].str.replace(',','')\n",
    "total_pops['ผลรวมประชากรทั้งหมด'] = total_pops['ผลรวมประชากรทั้งหมด'].astype('float')"
   ]
  },
  {
   "cell_type": "code",
   "execution_count": 5,
   "metadata": {},
   "outputs": [
    {
     "name": "stdout",
     "output_type": "stream",
     "text": [
      "Mean Squared Error:  9345587717.206543\n"
     ]
    },
    {
     "name": "stderr",
     "output_type": "stream",
     "text": [
      "/usr/local/lib/python3.6/dist-packages/sklearn/linear_model/ridge.py:125: LinAlgWarning: scipy.linalg.solve\n",
      "Ill-conditioned matrix detected. Result is not guaranteed to be accurate.\n",
      "Reciprocal condition number1.122632e-23\n",
      "  overwrite_a=True).T\n"
     ]
    }
   ],
   "source": [
    "\n",
    "\n",
    "# Define the independent and dependent variables\n",
    "X = total_pops[['year']]\n",
    "y = total_pops['ผลรวมประชากรทั้งหมด']\n",
    "\n",
    "# Create a polynomial features object with degree 2\n",
    "model = make_pipeline(PolynomialFeatures(4), Ridge())\n",
    "# poly = PolynomialFeatures(degree=92)\n",
    "\n",
    "\n",
    "# Transform the independent variable\n",
    "# X_poly = poly.fit_transform(X)\n",
    "\n",
    "# Create a linear regression object\n",
    "# model = LinearRegression()\n",
    "\n",
    "# Fit the model to the data\n",
    "model.fit(X, y)\n",
    "\n",
    "# Make predictions using the model\n",
    "y_pred = model.predict(X)\n",
    "\n",
    "# Calculate the mean squared error\n",
    "mse = mean_squared_error(y, y_pred)\n",
    "\n",
    "print(\"Mean Squared Error: \", mse)\n"
   ]
  },
  {
   "cell_type": "code",
   "execution_count": 6,
   "metadata": {},
   "outputs": [
    {
     "name": "stdout",
     "output_type": "stream",
     "text": [
      "The best degree for polynomial regression is: 3\n"
     ]
    },
    {
     "name": "stderr",
     "output_type": "stream",
     "text": [
      "/usr/local/lib/python3.6/dist-packages/sklearn/linear_model/ridge.py:125: LinAlgWarning: scipy.linalg.solve\n",
      "Ill-conditioned matrix detected. Result is not guaranteed to be accurate.\n",
      "Reciprocal condition number8.126511e-17\n",
      "  overwrite_a=True).T\n",
      "/usr/local/lib/python3.6/dist-packages/sklearn/linear_model/ridge.py:125: LinAlgWarning: scipy.linalg.solve\n",
      "Ill-conditioned matrix detected. Result is not guaranteed to be accurate.\n",
      "Reciprocal condition number1.122632e-23\n",
      "  overwrite_a=True).T\n"
     ]
    }
   ],
   "source": [
    "degrees = []\n",
    "\n",
    "for i in range(1,5):\n",
    "    degrees.append(i)\n",
    "mse = []\n",
    "\n",
    "# Loop through the degrees\n",
    "for degree in degrees:\n",
    "    # Create a pipeline with a polynomial feature transformer and a Ridge regressor\n",
    "    model = make_pipeline(PolynomialFeatures(degree), Ridge())\n",
    "    # Fit the model to the data\n",
    "    model.fit(X, y)\n",
    "    # Predict using the model\n",
    "    y_pred = model.predict(X)\n",
    "    # Calculate the mean squared error\n",
    "    mse.append(mean_squared_error(y, y_pred))\n",
    "\n",
    "# Find the degree with the lowest mean squared error\n",
    "best_degree = degrees[np.argmin(mse)]\n",
    "\n",
    "print(\"The best degree for polynomial regression is:\",best_degree)\n"
   ]
  },
  {
   "cell_type": "code",
   "execution_count": 8,
   "metadata": {},
   "outputs": [
    {
     "name": "stdout",
     "output_type": "stream",
     "text": [
      "The best alpha for Ridge regression is: 10.0\n"
     ]
    }
   ],
   "source": [
    "from sklearn.linear_model import RidgeCV\n",
    "\n",
    "alphas = [0.1, 1, 10, 100]\n",
    "\n",
    "reg = RidgeCV(alphas=alphas)\n",
    "reg.fit(X, y)\n",
    "print(\"The best alpha for Ridge regression is:\",reg.alpha_)"
   ]
  },
  {
   "cell_type": "code",
   "execution_count": 9,
   "metadata": {},
   "outputs": [
    {
     "data": {
      "text/plain": [
       "array([64735950.62525177, 65239160.71697235, 65652494.72077179,\n",
       "       65975774.22959137, 66208820.70410919, 66351455.47257233,\n",
       "       66403499.73088837, 66364774.54261017, 66235100.83882904,\n",
       "       66014299.41840363])"
      ]
     },
     "execution_count": 9,
     "metadata": {},
     "output_type": "execute_result"
    }
   ],
   "source": [
    "y_pred"
   ]
  },
  {
   "cell_type": "code",
   "execution_count": 10,
   "metadata": {},
   "outputs": [
    {
     "name": "stdout",
     "output_type": "stream",
     "text": [
      "R-squared:  0.9671272025537443\n"
     ]
    }
   ],
   "source": [
    "from sklearn.metrics import r2_score\n",
    "r2 = r2_score(y, y_pred)\n",
    "print(\"R-squared: \", r2)"
   ]
  },
  {
   "cell_type": "code",
   "execution_count": 11,
   "metadata": {},
   "outputs": [
    {
     "name": "stdout",
     "output_type": "stream",
     "text": [
      "Mean Absolute Error:  84139.20642242432\n"
     ]
    }
   ],
   "source": [
    "from sklearn.metrics import mean_absolute_error\n",
    "mae = mean_absolute_error(y, y_pred)\n",
    "print(\"Mean Absolute Error: \", mae)"
   ]
  },
  {
   "cell_type": "code",
   "execution_count": 62,
   "metadata": {},
   "outputs": [],
   "source": [
    "years = []\n",
    "for i in range(2013,2051):\n",
    "    years.append(i)\n",
    "    \n",
    "ExpoSmoothPred = pd.DataFrame(years, columns = [\"year\"])\n",
    "# X_poly_pred = poly.fit_transform(X_pred)\n"
   ]
  },
  {
   "cell_type": "code",
   "execution_count": 63,
   "metadata": {},
   "outputs": [
    {
     "name": "stderr",
     "output_type": "stream",
     "text": [
      "/usr/local/lib/python3.6/dist-packages/statsmodels/tsa/base/tsa_model.py:579: ValueWarning: An unsupported index was provided and will be ignored when e.g. forecasting.\n",
      "  ' ignored when e.g. forecasting.', ValueWarning)\n",
      "/usr/local/lib/python3.6/dist-packages/statsmodels/tsa/holtwinters/model.py:429: FutureWarning: After 0.13 initialization must be handled at model creation\n",
      "  FutureWarning,\n",
      "/usr/local/lib/python3.6/dist-packages/statsmodels/tsa/holtwinters/model.py:922: ConvergenceWarning: Optimization failed to converge. Check mle_retvals.\n",
      "  ConvergenceWarning,\n",
      "/usr/local/lib/python3.6/dist-packages/statsmodels/tsa/base/tsa_model.py:379: ValueWarning: No supported index is available. Prediction results will be given with an integer index beginning at `start`.\n",
      "  ValueWarning)\n"
     ]
    },
    {
     "data": {
      "image/png": "[encoded data removed]",
      "text/plain": [
       "<Figure size 432x288 with 1 Axes>"
      ]
     },
     "metadata": {
      "needs_background": "light"
     },
     "output_type": "display_data"
    }
   ],
   "source": [
    "from statsmodels.tsa.holtwinters import ExponentialSmoothing\n",
    "from sklearn.model_selection import train_test_split\n",
    "\n",
    "# total_pops['year'] = pd.to_datetime(total_pops['year'])\n",
    "# total_pops.set_index('year', inplace=True)\n",
    "\n",
    "# define the features and target\n",
    "y = total_pops['ผลรวมประชากรทั้งหมด']\n",
    "\n",
    "\n",
    "# Set the date column as the index\n",
    "\n",
    "# Fit the model\n",
    "model = ExponentialSmoothing(y,trend='add').fit()\n",
    "\n",
    "# Make predictions\n",
    "predictions = model.predict(start=0, end=len(total_pops)+27)\n",
    "\n",
    "ExpoSmoothPred['Predicted Total Population'] = predictions\n",
    "ExpoSmoothPred.plot.line(x='year',y='Predicted Total Population')\n",
    "plt.show()"
   ]
  },
  {
   "cell_type": "code",
   "execution_count": 64,
   "metadata": {},
   "outputs": [
    {
     "name": "stderr",
     "output_type": "stream",
     "text": [
      "/usr/local/lib/python3.6/dist-packages/statsmodels/tsa/base/tsa_model.py:579: ValueWarning: An unsupported index was provided and will be ignored when e.g. forecasting.\n",
      "  ' ignored when e.g. forecasting.', ValueWarning)\n",
      "/usr/local/lib/python3.6/dist-packages/statsmodels/tsa/holtwinters/model.py:429: FutureWarning: After 0.13 initialization must be handled at model creation\n",
      "  FutureWarning,\n",
      "/usr/local/lib/python3.6/dist-packages/statsmodels/tsa/holtwinters/model.py:922: ConvergenceWarning: Optimization failed to converge. Check mle_retvals.\n",
      "  ConvergenceWarning,\n",
      "/usr/local/lib/python3.6/dist-packages/statsmodels/tsa/base/tsa_model.py:379: ValueWarning: No supported index is available. Prediction results will be given with an integer index beginning at `start`.\n",
      "  ValueWarning)\n"
     ]
    },
    {
     "data": {
      "image/png": "[encoded data removed]",
      "text/plain": [
       "<Figure size 432x288 with 1 Axes>"
      ]
     },
     "metadata": {
      "needs_background": "light"
     },
     "output_type": "display_data"
    }
   ],
   "source": [
    "from statsmodels.tsa.holtwinters import ExponentialSmoothing\n",
    "from sklearn.model_selection import train_test_split\n",
    "\n",
    "# total_pops['year'] = pd.to_datetime(total_pops['year'])\n",
    "# total_pops.set_index('year', inplace=True)\n",
    "\n",
    "# define the features and target\n",
    "y = total_pops['Elderly']\n",
    "\n",
    "\n",
    "# Set the date column as the index\n",
    "\n",
    "# Fit the model\n",
    "Emodel = ExponentialSmoothing(y,trend='add').fit()\n",
    "\n",
    "# Make predictions\n",
    "Elder_predictions = Emodel.predict(start=0, end=len(total_pops)+27)\n",
    "\n",
    "ExpoSmoothPred['Predicted Elderly Population'] = Elder_predictions\n",
    "ExpoSmoothPred.plot.line(x='year',y='Predicted Elderly Population')\n",
    "plt.show()"
   ]
  },
  {
   "cell_type": "code",
   "execution_count": 65,
   "metadata": {},
   "outputs": [
    {
     "name": "stderr",
     "output_type": "stream",
     "text": [
      "/usr/local/lib/python3.6/dist-packages/statsmodels/tsa/base/tsa_model.py:579: ValueWarning: An unsupported index was provided and will be ignored when e.g. forecasting.\n",
      "  ' ignored when e.g. forecasting.', ValueWarning)\n",
      "/usr/local/lib/python3.6/dist-packages/statsmodels/tsa/holtwinters/model.py:429: FutureWarning: After 0.13 initialization must be handled at model creation\n",
      "  FutureWarning,\n",
      "/usr/local/lib/python3.6/dist-packages/statsmodels/tsa/holtwinters/model.py:922: ConvergenceWarning: Optimization failed to converge. Check mle_retvals.\n",
      "  ConvergenceWarning,\n",
      "/usr/local/lib/python3.6/dist-packages/statsmodels/tsa/base/tsa_model.py:379: ValueWarning: No supported index is available. Prediction results will be given with an integer index beginning at `start`.\n",
      "  ValueWarning)\n"
     ]
    },
    {
     "data": {
      "image/png": "[encoded data removed]",
      "text/plain": [
       "<Figure size 432x288 with 1 Axes>"
      ]
     },
     "metadata": {
      "needs_background": "light"
     },
     "output_type": "display_data"
    }
   ],
   "source": [
    "from statsmodels.tsa.holtwinters import ExponentialSmoothing\n",
    "from sklearn.model_selection import train_test_split\n",
    "\n",
    "# total_pops['year'] = pd.to_datetime(total_pops['year'])\n",
    "# total_pops.set_index('year', inplace=True)\n",
    "\n",
    "# define the features and target\n",
    "y = total_pops['Infant']\n",
    "\n",
    "\n",
    "# Set the date column as the index\n",
    "\n",
    "# Fit the model\n",
    "Imodel = ExponentialSmoothing(y,trend='add').fit()\n",
    "\n",
    "# Make predictions\n",
    "Infant_predictions = Imodel.predict(start=0, end=len(total_pops)+27)\n",
    "\n",
    "ExpoSmoothPred['Predicted Infant Population'] = Infant_predictions\n",
    "ExpoSmoothPred.plot.line(x='year',y='Predicted Infant Population')\n",
    "plt.show()"
   ]
  },
  {
   "cell_type": "code",
   "execution_count": 66,
   "metadata": {},
   "outputs": [
    {
     "name": "stderr",
     "output_type": "stream",
     "text": [
      "/usr/local/lib/python3.6/dist-packages/statsmodels/tsa/base/tsa_model.py:579: ValueWarning: An unsupported index was provided and will be ignored when e.g. forecasting.\n",
      "  ' ignored when e.g. forecasting.', ValueWarning)\n",
      "/usr/local/lib/python3.6/dist-packages/statsmodels/tsa/holtwinters/model.py:429: FutureWarning: After 0.13 initialization must be handled at model creation\n",
      "  FutureWarning,\n",
      "/usr/local/lib/python3.6/dist-packages/statsmodels/tsa/holtwinters/model.py:922: ConvergenceWarning: Optimization failed to converge. Check mle_retvals.\n",
      "  ConvergenceWarning,\n",
      "/usr/local/lib/python3.6/dist-packages/statsmodels/tsa/base/tsa_model.py:379: ValueWarning: No supported index is available. Prediction results will be given with an integer index beginning at `start`.\n",
      "  ValueWarning)\n"
     ]
    },
    {
     "data": {
      "image/png": "[encoded data removed]",
      "text/plain": [
       "<Figure size 432x288 with 1 Axes>"
      ]
     },
     "metadata": {
      "needs_background": "light"
     },
     "output_type": "display_data"
    }
   ],
   "source": [
    "from statsmodels.tsa.holtwinters import ExponentialSmoothing\n",
    "from sklearn.model_selection import train_test_split\n",
    "\n",
    "# total_pops['year'] = pd.to_datetime(total_pops['year'])\n",
    "# total_pops.set_index('year', inplace=True)\n",
    "\n",
    "# define the features and target\n",
    "y = total_pops['Youth']\n",
    "\n",
    "\n",
    "# Set the date column as the index\n",
    "\n",
    "# Fit the model\n",
    "Ymodel = ExponentialSmoothing(y,trend='add').fit()\n",
    "\n",
    "# Make predictions\n",
    "Youth_predictions = Ymodel.predict(start=0, end=len(total_pops)+27)\n",
    "\n",
    "ExpoSmoothPred['Predicted Youth Population'] = Youth_predictions\n",
    "ExpoSmoothPred.plot.line(x='year',y='Predicted Youth Population')\n",
    "plt.show()"
   ]
  },
  {
   "cell_type": "code",
   "execution_count": 67,
   "metadata": {},
   "outputs": [
    {
     "name": "stderr",
     "output_type": "stream",
     "text": [
      "/usr/local/lib/python3.6/dist-packages/statsmodels/tsa/base/tsa_model.py:579: ValueWarning: An unsupported index was provided and will be ignored when e.g. forecasting.\n",
      "  ' ignored when e.g. forecasting.', ValueWarning)\n",
      "/usr/local/lib/python3.6/dist-packages/statsmodels/tsa/holtwinters/model.py:429: FutureWarning: After 0.13 initialization must be handled at model creation\n",
      "  FutureWarning,\n",
      "/usr/local/lib/python3.6/dist-packages/statsmodels/tsa/holtwinters/model.py:922: ConvergenceWarning: Optimization failed to converge. Check mle_retvals.\n",
      "  ConvergenceWarning,\n",
      "/usr/local/lib/python3.6/dist-packages/statsmodels/tsa/base/tsa_model.py:379: ValueWarning: No supported index is available. Prediction results will be given with an integer index beginning at `start`.\n",
      "  ValueWarning)\n"
     ]
    },
    {
     "data": {
      "image/png": "[encoded data removed]",
      "text/plain": [
       "<Figure size 432x288 with 1 Axes>"
      ]
     },
     "metadata": {
      "needs_background": "light"
     },
     "output_type": "display_data"
    }
   ],
   "source": [
    "from statsmodels.tsa.holtwinters import ExponentialSmoothing\n",
    "from sklearn.model_selection import train_test_split\n",
    "\n",
    "# total_pops['year'] = pd.to_datetime(total_pops['year'])\n",
    "# total_pops.set_index('year', inplace=True)\n",
    "\n",
    "# define the features and target\n",
    "y = total_pops['Adult']\n",
    "\n",
    "\n",
    "# Set the date column as the index\n",
    "\n",
    "# Fit the model\n",
    "Amodel = ExponentialSmoothing(y,trend='add').fit()\n",
    "\n",
    "# Make predictions\n",
    "Adult_predictions = Amodel.predict(start=0, end=len(total_pops)+27)\n",
    "\n",
    "ExpoSmoothPred['Predicted Adult Population'] = Adult_predictions\n",
    "ExpoSmoothPred.plot.line(x='year',y='Predicted Adult Population')\n",
    "plt.show()"
   ]
  },
  {
   "cell_type": "code",
   "execution_count": 72,
   "metadata": {},
   "outputs": [],
   "source": [
    "ExpoSmoothPred.clip(lower=0, inplace = True)"
   ]
  },
  {
   "cell_type": "code",
   "execution_count": 73,
   "metadata": {},
   "outputs": [
    {
     "data": {
      "text/plain": [
       "<matplotlib.axes._subplots.AxesSubplot at 0x7f3b13ba09e8>"
      ]
     },
     "execution_count": 73,
     "metadata": {},
     "output_type": "execute_result"
    },
    {
     "data": {
      "image/png": "[encoded data removed]",
      "text/plain": [
       "<Figure size 432x288 with 1 Axes>"
      ]
     },
     "metadata": {
      "needs_background": "light"
     },
     "output_type": "display_data"
    }
   ],
   "source": [
    "ExpoSmoothPred.plot.line(x='year')"
   ]
  },
  {
   "cell_type": "code",
   "execution_count": 74,
   "metadata": {},
   "outputs": [],
   "source": [
    "ExpoSmoothPred.to_csv('ExpoSmoothPred.csv',index=False)"
   ]
  }
 ],
 "metadata": {
  "kernelspec": {
   "display_name": "Python 3",
   "language": "python",
   "name": "python3"
  },
  "language_info": {
   "codemirror_mode": {
    "name": "ipython",
    "version": 3
   },
   "file_extension": ".py",
   "mimetype": "text/x-python",
   "name": "python",
   "nbconvert_exporter": "python",
   "pygments_lexer": "ipython3",
   "version": "3.6.9"
  }
 },
 "nbformat": 4,
 "nbformat_minor": 2
}
